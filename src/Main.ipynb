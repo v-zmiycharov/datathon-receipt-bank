{
 "cells": [
  {
   "cell_type": "code",
   "execution_count": 6,
   "metadata": {
    "collapsed": true
   },
   "outputs": [],
   "source": [
    "import pandas as pd\n",
    "import numpy as np\n",
    "import matplotlib.pyplot as plt\n",
    "%matplotlib inline"
   ]
  },
  {
   "cell_type": "code",
   "execution_count": 8,
   "metadata": {
    "collapsed": false
   },
   "outputs": [
    {
     "name": "stdout",
     "output_type": "stream",
     "text": [
      " Volume in drive D is Data\n",
      " Volume Serial Number is 8665-F573\n",
      "\n",
      " Directory of D:\\Projects\\datathon-receipt-bank\\src\n",
      "\n",
      "25.03.2017 Ј.  12:05    <DIR>          .\n",
      "25.03.2017 Ј.  12:05    <DIR>          ..\n",
      "25.03.2017 Ј.  12:03    <DIR>          .ipynb_checkpoints\n",
      "25.03.2017 Ј.  12:05             1я084 Main.ipynb\n",
      "               1 File(s)          1я084 bytes\n",
      "               3 Dir(s)  514я577я948я672 bytes free\n"
     ]
    }
   ],
   "source": [
    "r = \"..\\\""
   ]
  },
  {
   "cell_type": "code",
   "execution_count": 10,
   "metadata": {
    "collapsed": false
   },
   "outputs": [],
   "source": [
    "dataset_path = '../big_data/rb-suppliers-challange/receipts.csv'\n",
    "texts_path = '../big_data/rb-suppliers-challange/texts/'"
   ]
  },
  {
   "cell_type": "code",
   "execution_count": 11,
   "metadata": {
    "collapsed": false
   },
   "outputs": [
    {
     "name": "stdout",
     "output_type": "stream",
     "text": [
      "Initial shape: (9009, 15)\n",
      "Shape after filter: (9009, 15)\n",
      "Columns names:\n",
      "['id.1' 'created_at' 'currency_code' 'total_amount' 'vat_amount' 'date'\n",
      " 'due_date' 'invoice_number' 'received_via' 'supplier_name' 'ocr_method'\n",
      " 'manual_review' 'account_default_currency' 'payment_type' 'document_type']\n",
      "Dataset size 9009\n",
      "Unique supplier names 1948\n",
      "Unique currency names 20\n",
      "Currency codes:\n",
      "['AUD' 'USD' 'GBP' 'CAD' 'NZD' 'EUR' 'ZAR' 'HKD' 'BGN' 'AED' 'JPY' 'RUB'\n",
      " 'SGD' 'BRL' 'UAH' 'IDR' 'THB' 'CNY' 'INR' 'NOK']\n"
     ]
    }
   ],
   "source": [
    "dataset = pd.read_csv(dataset_path, index_col=['id'])\n",
    "print(\"Initial shape:\", dataset.shape)\n",
    "\n",
    "dataset = dataset[~dataset.supplier_name.isnull()]\n",
    "dataset = dataset[~dataset.currency_code.isnull()]\n",
    "np.random.seed(1)\n",
    "shuffled = dataset.reindex(np.random.permutation(dataset.index))\n",
    "print(\"Shape after filter:\", dataset.shape)\n",
    "print(\"Columns names:\")\n",
    "print(dataset.columns.values)\n",
    "\n",
    "unique_supplier_names = shuffled.supplier_name.unique()\n",
    "unique_currency_codes = shuffled.currency_code.unique()\n",
    "\n",
    "print(\"Dataset size {0}\".format(len(shuffled)))\n",
    "print(\"Unique supplier names {0}\".format(len(unique_supplier_names)))\n",
    "print(\"Unique currency names {0}\".format(len(unique_currency_codes)))\n",
    "\n",
    "print(\"Currency codes:\")\n",
    "print(unique_currency_codes)"
   ]
  },
  {
   "cell_type": "code",
   "execution_count": 12,
   "metadata": {
    "collapsed": false
   },
   "outputs": [
    {
     "name": "stdout",
     "output_type": "stream",
     "text": [
      "Unique currencies: 20\n",
      "currency_code\n",
      "AED       7\n",
      "AUD     800\n",
      "BGN     294\n",
      "BRL       1\n",
      "CAD      88\n",
      "CNY       1\n",
      "EUR     443\n",
      "GBP    5658\n",
      "HKD       9\n",
      "IDR       1\n",
      "INR       1\n",
      "JPY       1\n",
      "NOK       1\n",
      "NZD     362\n",
      "RUB       3\n",
      "SGD      11\n",
      "THB       1\n",
      "UAH       2\n",
      "USD    1215\n",
      "ZAR     110\n",
      "dtype: int64\n"
     ]
    }
   ],
   "source": [
    "def find_class_frequencies(dataset, group_col='currency_code'):\n",
    "    codes = dataset.groupby(group_col).size()\n",
    "    return codes\n",
    "\n",
    "currency_codes = find_class_frequencies(dataset)\n",
    "print('Unique currencies:', len(currency_codes))\n",
    "print(currency_codes)\n",
    "\n",
    "currency_names = currency_codes.index.values\n",
    "currency_counts = currency_codes.values\n",
    "# plt.bar(range(len(currency_names.tolist())), currency_counts.tolist(), align='edge', alpha=0.5, tick_label=currency_names.tolist())\n",
    "# plt.xticks(rotation=70);"
   ]
  },
  {
   "cell_type": "code",
   "execution_count": 14,
   "metadata": {
    "collapsed": false
   },
   "outputs": [
    {
     "name": "stdout",
     "output_type": "stream",
     "text": [
      "Unique suppliers: 20\n",
      "supplier_name\n",
      "155 Bar and Kitchen                      2\n",
      "2Talk                                    1\n",
      "333 Estates                              1\n",
      "51st State Tavern                        2\n",
      "57 Hotel                                 1\n",
      "7-Eleven                                 8\n",
      "75 Paris                                 1\n",
      "A & J Road Services                      1\n",
      "A Teck Or Tambo                          1\n",
      "A.W. Curtis                              1\n",
      "ACE Envelopes                            1\n",
      "ACR Sales & Marketing                    1\n",
      "AMT Coffee                               9\n",
      "ASDA                                     3\n",
      "ATM                                      4\n",
      "AVIS                                     2\n",
      "Aagrah Leopold LLP                       1\n",
      "Aaroport Services                        1\n",
      "Abellio Stansted Express                 1\n",
      "Abode Machester                          2\n",
      "Accor Hotels                             2\n",
      "Adam Zweig                               2\n",
      "Adams                                    1\n",
      "Addison Lee                             17\n",
      "Adelaide Metro                           2\n",
      "Adelaide Thirsty Camel                   1\n",
      "Adelaide Zoo                             1\n",
      "Adina Apartment Hotel                    9\n",
      "Admiral Codrington                       3\n",
      "Adria Airways                            1\n",
      "                                        ..\n",
      "Zazzle                                   2\n",
      "Zdravo d                                 1\n",
      "Zedel                                    1\n",
      "Zendesk                                 13\n",
      "Zest                                     4\n",
      "Zesto Australia                          1\n",
      "Zizzi                                    3\n",
      "Zucla                                    3\n",
      "Zup Prevozi                              2\n",
      "beautiful beanbags                       1\n",
      "cleverbridge AG                          1\n",
      "dick smith                               2\n",
      "easyBus                                  1\n",
      "easyJet                                  1\n",
      "flybe.com                                1\n",
      "iBox-Security                            1\n",
      "iStockphoto                              4\n",
      "iStore                                   1\n",
      "iTunes                                   4\n",
      "laissez-faire                            2\n",
      "maplin                                   2\n",
      "myBalsamiq                               1\n",
      "nab                                      1\n",
      "official ESTA . com                      1\n",
      "payards pastry counter Caesar Palace     1\n",
      "sainsburys                               2\n",
      "scuba bar & diner                        1\n",
      "tabard inn                               2\n",
      "upland                                   1\n",
      "west elm                                 2\n",
      "dtype: int64\n"
     ]
    }
   ],
   "source": [
    "suppliers = find_class_frequencies(dataset, 'supplier_name')\n",
    "print('Unique suppliers:', len(currency_codes))\n",
    "print(suppliers)\n",
    "\n",
    "suppliers_names = suppliers.index.values\n",
    "suppliers_counts = suppliers.values\n",
    "# plt.bar(range(len(suppliers_names)), suppliers_counts, align='edge', alpha=0.5);"
   ]
  },
  {
   "cell_type": "code",
   "execution_count": 15,
   "metadata": {
    "collapsed": true
   },
   "outputs": [],
   "source": [
    "from os import listdir\n",
    "from os.path import isfile, join\n",
    "import json"
   ]
  },
  {
   "cell_type": "code",
   "execution_count": null,
   "metadata": {
    "collapsed": true
   },
   "outputs": [],
   "source": [
    "file_names = [f.split(\".\")[0] for f in listdir(texts_path) if isfile(join(texts_path, f)) and f.endswith('.json')]\n",
    "ids = np.array(list(set([int(f) for f in file_names]).intersection(set(dataset.index.values))))\n",
    "texts = pd.Series(['' for i in ids], index=ids)\n",
    "for index in ids:\n",
    "    json_data = open(texts_path + str(index) + '.json', encoding=\"utf8\")\n",
    "    data = json.load(json_data)\n",
    "    try:\n",
    "        texts[index] = data[0]['textAnnotations'][0]['description']\n",
    "    except:\n",
    "        texts[index] = ''\n",
    "dataset['texts'] = texts"
   ]
  },
  {
   "cell_type": "code",
   "execution_count": null,
   "metadata": {
    "collapsed": true
   },
   "outputs": [],
   "source": [
    "from sklearn.svm import LinearSVC\n",
    "from sklearn.feature_extraction.text import TfidfTransformer, CountVectorizer\n",
    "from sklearn.pipeline import Pipeline\n",
    "from sklearn.model_selection import train_test_split"
   ]
  },
  {
   "cell_type": "code",
   "execution_count": null,
   "metadata": {
    "collapsed": true
   },
   "outputs": [],
   "source": [
    "np.random.seed(1)\n",
    "shuffled = dataset.reindex(np.random.permutation(dataset.index))\n",
    "\n",
    "test_slice = int(len(shuffled) * (10 / 100))\n",
    "training_set = shuffled[test_slice:]\n",
    "test_set = shuffled[:test_slice]\n",
    "\n",
    "print(\"Training set size {0}\".format(len(training_set)))\n",
    "freq = find_class_frequencies(training_set)\n",
    "print(freq)\n",
    "print(\"Trest set size {0}\".format(len(test_set)))\n",
    "freq = find_class_frequencies(test_set)\n",
    "print(freq)"
   ]
  },
  {
   "cell_type": "code",
   "execution_count": null,
   "metadata": {
    "collapsed": true
   },
   "outputs": [],
   "source": [
    "classifier = Pipeline([\n",
    "    ('counts', CountVectorizer(max_features=2000000, min_df=2, ngram_range=(1, 3))),\n",
    "    ('tfidf', TfidfTransformer()),\n",
    "    ('clf', LinearSVC(class_weight='balanced', random_state=1))])\n",
    "\n",
    "classifier.fit(training_set['texts'], training_set['currency_code'])\n",
    "print(\"Test set score {0}\".format(classifier.score(test_set['texts'],  test_set['currency_code'])))"
   ]
  },
  {
   "cell_type": "code",
   "execution_count": null,
   "metadata": {
    "collapsed": true
   },
   "outputs": [],
   "source": [
    "from sklearn.ensemble import RandomForestClassifier"
   ]
  },
  {
   "cell_type": "code",
   "execution_count": null,
   "metadata": {
    "collapsed": true
   },
   "outputs": [],
   "source": [
    "classifier = Pipeline([\n",
    "    ('counts', CountVectorizer(max_features=2000000, min_df=2, ngram_range=(1, 3))),\n",
    "    ('tfidf', TfidfTransformer()),\n",
    "    ('clf', RandomForestClassifier(n_estimators=100, criterion='gini', max_depth=64, n_jobs=4, random_state=1))])\n",
    "\n",
    "classifier.fit(training_set['texts'], training_set['supplier_name'])\n",
    "print(\"Test set score {0}\".format(classifier.score(test_set['texts'],  test_set['supplier_name'])))"
   ]
  },
  {
   "cell_type": "code",
   "execution_count": null,
   "metadata": {
    "collapsed": true
   },
   "outputs": [],
   "source": [
    "result_set = test_set.copy()\n",
    "result_set['prediction'] = classifier.predict(result_set['texts'])"
   ]
  },
  {
   "cell_type": "code",
   "execution_count": null,
   "metadata": {
    "collapsed": true
   },
   "outputs": [],
   "source": [
    "result_set[['supplier_name', 'prediction']]"
   ]
  },
  {
   "cell_type": "code",
   "execution_count": null,
   "metadata": {
    "collapsed": true
   },
   "outputs": [],
   "source": []
  }
 ],
 "metadata": {
  "kernelspec": {
   "display_name": "Python 3",
   "language": "python",
   "name": "python3"
  },
  "language_info": {
   "codemirror_mode": {
    "name": "ipython",
    "version": 3
   },
   "file_extension": ".py",
   "mimetype": "text/x-python",
   "name": "python",
   "nbconvert_exporter": "python",
   "pygments_lexer": "ipython3",
   "version": "3.6.0"
  }
 },
 "nbformat": 4,
 "nbformat_minor": 2
}
