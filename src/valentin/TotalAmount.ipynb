{
 "cells": [
  {
   "cell_type": "code",
   "execution_count": 1,
   "metadata": {
    "collapsed": true
   },
   "outputs": [],
   "source": [
    "import pandas as pd\n",
    "import numpy as np\n",
    "import matplotlib.pyplot as plt\n",
    "%matplotlib inline\n",
    "from os import listdir\n",
    "from os.path import isfile, join\n",
    "import json"
   ]
  },
  {
   "cell_type": "code",
   "execution_count": 2,
   "metadata": {
    "collapsed": false
   },
   "outputs": [],
   "source": [
    "dataset_path = '../../big_data/rb-suppliers-challange/receipts.csv'\n",
    "texts_path = '../../big_data/rb-suppliers-challange/texts/'"
   ]
  },
  {
   "cell_type": "code",
   "execution_count": 3,
   "metadata": {
    "collapsed": false
   },
   "outputs": [],
   "source": [
    "dataset = pd.read_csv(dataset_path, index_col=['id'])\n",
    "\n",
    "dataset = dataset[~dataset.supplier_name.isnull()]\n",
    "dataset = dataset[~dataset.currency_code.isnull()]\n",
    "np.random.seed(1)\n",
    "shuffled = dataset.reindex(np.random.permutation(dataset.index))\n",
    "\n",
    "unique_supplier_names = shuffled.supplier_name.unique()\n",
    "unique_currency_codes = shuffled.currency_code.unique()"
   ]
  },
  {
   "cell_type": "code",
   "execution_count": 4,
   "metadata": {
    "collapsed": true
   },
   "outputs": [],
   "source": [
    "file_names = [f.split(\".\")[0] for f in listdir(texts_path) if isfile(join(texts_path, f)) and f.endswith('.json')]\n",
    "ids = np.array(list(set([int(f) for f in file_names]).intersection(set(dataset.index.values))))\n",
    "texts = pd.Series(['' for i in ids], index=ids)\n",
    "for index in ids:\n",
    "    json_data = open(texts_path + str(index) + '.json', encoding=\"utf8\")\n",
    "    data = json.load(json_data)\n",
    "    try:\n",
    "        texts[index] = data[0]['textAnnotations'][0]['description']\n",
    "    except:\n",
    "        texts[index] = ''\n",
    "dataset['texts'] = texts"
   ]
  },
  {
   "cell_type": "code",
   "execution_count": 5,
   "metadata": {
    "collapsed": true
   },
   "outputs": [],
   "source": [
    "import re\n",
    "from itertools import combinations"
   ]
  },
  {
   "cell_type": "code",
   "execution_count": 8,
   "metadata": {
    "collapsed": false
   },
   "outputs": [
    {
     "name": "stdout",
     "output_type": "stream",
     "text": [
      "Prepaid calling service, Rebtel creditA 15.0015% Lux VAT\n",
      "15% Lux VATA 2.25Total (GBP)\n",
      "Total (GBP)A£17.25Visa\n"
     ]
    }
   ],
   "source": [
    "prices = pd.Series([[] for i in ids], index=ids)\n",
    "for index in ids:\n",
    "    text = dataset['texts'][index]\n",
    "    total_amount = dataset['total_amount'][index]\n",
    "    lines = text.split('\\n')\n",
    "    current_prices = []\n",
    "    for line_index, line in enumerate(lines):\n",
    "        found_prices = re.findall('\\d+[\\.,][\\d\\.,]+', line)\n",
    "        found_digits = re.findall('\\d', line)\n",
    "        for item in found_prices:\n",
    "            try:\n",
    "                current_price = float(item)\n",
    "            except:\n",
    "                continue\n",
    "\n",
    "            new_price = dict()\n",
    "            new_price['value'] = current_price\n",
    "            new_price['is_total'] = 1 if current_price == total_amount else 0\n",
    "            new_price['has_total_word'] = 'total' in line.lower()\n",
    "            new_price['digits_count'] = len(found_digits)\n",
    "            \n",
    "            sourrounding_text = ''\n",
    "            if line_index > 0:\n",
    "                sourrounding_text += lines[line_index-1] + ' '\n",
    "            sourrounding_text += lines[line_index] + ' '\n",
    "            if line_index + 1 < len(lines):\n",
    "                sourrounding_text += lines[line_index+1]\n",
    "                \n",
    "            new_price['text'] = sourrounding_text\n",
    "            \n",
    "            print(new_price['text'])\n",
    "\n",
    "            current_prices.append(new_price)\n",
    "    break\n",
    "                               \n",
    "    prices[index] = current_prices\n",
    "    \n",
    "dataset['prices'] = prices"
   ]
  },
  {
   "cell_type": "code",
   "execution_count": 7,
   "metadata": {
    "collapsed": false
   },
   "outputs": [],
   "source": [
    "def get_possible_sums(items):\n",
    "    result = set()\n",
    "    filtered = list(item for item in items if item > 0)\n",
    "    \n",
    "    start_combinations = max(2, len(filtered) - 5)\n",
    "    end_combinations = len(filtered) + 1\n",
    "    \n",
    "    for length in range(start_combinations, end_combinations):\n",
    "        for combination in combinations(filtered, length):\n",
    "            summed = sum(combination)\n",
    "            # round to avoid float errors\n",
    "            result.add(round(summed, 3))\n",
    "    \n",
    "    return result"
   ]
  },
  {
   "cell_type": "code",
   "execution_count": 8,
   "metadata": {
    "collapsed": false
   },
   "outputs": [],
   "source": [
    "for index in ids:\n",
    "    current_prices = dataset['prices'][index]\n",
    "    \n",
    "    possible_sums = get_possible_sums(list(p['value'] for p in current_prices))\n",
    "    \n",
    "    for i, price in enumerate(current_prices):\n",
    "        price['order'] = round(i / (max(len(current_prices) - 1, 1)), 2)\n",
    "        price['can_be_sum'] = price['value'] in possible_sums"
   ]
  },
  {
   "cell_type": "code",
   "execution_count": 9,
   "metadata": {
    "collapsed": true
   },
   "outputs": [],
   "source": [
    "def get_features_array(price):\n",
    "    features = []\n",
    "    features.append(price['has_total_word'])\n",
    "    features.append(price['digits_count'])\n",
    "    features.append(price['order'])\n",
    "    features.append(price['can_be_sum'])\n",
    "    return features"
   ]
  },
  {
   "cell_type": "code",
   "execution_count": 10,
   "metadata": {
    "collapsed": false
   },
   "outputs": [],
   "source": [
    "X_data = []\n",
    "Y_data = []\n",
    "\n",
    "for id_index in ids:\n",
    "    for price_index, price in enumerate(dataset['prices'][id_index]):\n",
    "        # new_index = str(id_index) + '_' + str(price_index)\n",
    "        \n",
    "        X_data.append(get_features_array(price))\n",
    "        \n",
    "        Y_data.append(1 if price['is_total'] else 0)"
   ]
  },
  {
   "cell_type": "code",
   "execution_count": 11,
   "metadata": {
    "collapsed": false
   },
   "outputs": [],
   "source": [
    "test_items_count = int(len(X_data) * (10 / 100))\n",
    "X_train =  np.array(X_data[test_items_count:])\n",
    "X_test = np.array(X_data[:test_items_count])\n",
    "Y_train = np.array(Y_data[test_items_count:])\n",
    "Y_test = np.array(Y_data[:test_items_count])"
   ]
  },
  {
   "cell_type": "code",
   "execution_count": 12,
   "metadata": {
    "collapsed": true
   },
   "outputs": [],
   "source": [
    "from sklearn.svm import SVC\n",
    "from sklearn.ensemble import RandomForestClassifier"
   ]
  },
  {
   "cell_type": "code",
   "execution_count": 20,
   "metadata": {
    "collapsed": false
   },
   "outputs": [],
   "source": [
    "def predict_totals(receipt_prices, max_top_n):\n",
    "    predicted_totals = []\n",
    "    for price in receipt_prices:\n",
    "        features = np.array(get_features_array(price))\n",
    "        predicted = total_amount_classifier.predict_proba(features.reshape(1, -1))\n",
    "        predicted_totals.append((price['value'], predicted[0][1]))\n",
    "                              \n",
    "    sorted_predictions = sorted(predicted_totals, key=lambda tup: tup[1], reverse = True)\n",
    "    top_n_list = list(range(1, max_top_n + 1))\n",
    "    return tuple(list(tup[0] for tup in sorted_predictions[:top_n]) for top_n in top_n_list)"
   ]
  },
  {
   "cell_type": "code",
   "execution_count": 21,
   "metadata": {
    "collapsed": false
   },
   "outputs": [
    {
     "data": {
      "text/plain": [
       "RandomForestClassifier(bootstrap=True, class_weight=None, criterion='gini',\n",
       "            max_depth=None, max_features='auto', max_leaf_nodes=None,\n",
       "            min_impurity_split=1e-07, min_samples_leaf=1,\n",
       "            min_samples_split=2, min_weight_fraction_leaf=0.0,\n",
       "            n_estimators=50, n_jobs=1, oob_score=False, random_state=None,\n",
       "            verbose=0, warm_start=False)"
      ]
     },
     "execution_count": 21,
     "metadata": {},
     "output_type": "execute_result"
    }
   ],
   "source": [
    "total_amount_classifier = RandomForestClassifier()\n",
    "total_amount_classifier.fit(X_train, Y_train)"
   ]
  },
  {
   "cell_type": "code",
   "execution_count": 22,
   "metadata": {
    "collapsed": false
   },
   "outputs": [
    {
     "name": "stdout",
     "output_type": "stream",
     "text": [
      "TOP 1 Accuracy: 0.54\n",
      "TOP 2 Accuracy: 0.6\n",
      "TOP 3 Accuracy: 0.64\n"
     ]
    }
   ],
   "source": [
    "max_top_n = 3\n",
    "\n",
    "total_counts = list(0 for _ in range(max_top_n))\n",
    "correct_counts = list(0 for _ in range(max_top_n))\n",
    "\n",
    "for index in ids:\n",
    "    total_amount = dataset['total_amount'][index]\n",
    "    pridictions_tup = predict_totals(dataset['prices'][index], max_top_n)\n",
    "    \n",
    "    for top_n, pred_list in enumerate(pridictions_tup):\n",
    "        total_counts[top_n] += 1\n",
    "        if total_amount in pred_list:\n",
    "            correct_counts[top_n] += 1\n",
    "        \n",
    "for pred_index, pred_result in enumerate(zip(correct_counts, total_counts)):\n",
    "    print('TOP', str(pred_index + 1), 'Accuracy:', round(pred_result[0] / pred_result[1], 3))"
   ]
  },
  {
   "cell_type": "code",
   "execution_count": 20,
   "metadata": {
    "collapsed": false
   },
   "outputs": [
    {
     "name": "stdout",
     "output_type": "stream",
     "text": [
      "Average for totals:  0.4485572956865095\n",
      "Average for non totals:  0.14394961924610047\n"
     ]
    }
   ],
   "source": [
    "correct = 0\n",
    "predictions_for_total = []\n",
    "predictions_for_non_total = []\n",
    "for x_t, y_t in zip(X_test, Y_test):\n",
    "    predicted = total_amount_classifier.predict_proba(x_t.reshape(1, -1))[0][1]\n",
    "    if y_t == 1:\n",
    "        predictions_for_total.append(predicted)\n",
    "    else:\n",
    "        predictions_for_non_total.append(predicted)\n",
    "            \n",
    "print('Average for totals: ', float(sum(predictions_for_total)) / len(predictions_for_total))\n",
    "print('Average for non totals: ', float(sum(predictions_for_total)) / len(predictions_for_non_total))"
   ]
  },
  {
   "cell_type": "code",
   "execution_count": null,
   "metadata": {
    "collapsed": true
   },
   "outputs": [],
   "source": []
  }
 ],
 "metadata": {
  "kernelspec": {
   "display_name": "Python 3",
   "language": "python",
   "name": "python3"
  },
  "language_info": {
   "codemirror_mode": {
    "name": "ipython",
    "version": 3
   },
   "file_extension": ".py",
   "mimetype": "text/x-python",
   "name": "python",
   "nbconvert_exporter": "python",
   "pygments_lexer": "ipython3",
   "version": "3.6.0"
  }
 },
 "nbformat": 4,
 "nbformat_minor": 0
}
