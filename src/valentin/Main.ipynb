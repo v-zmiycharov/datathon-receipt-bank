{
 "cells": [
  {
   "cell_type": "code",
   "execution_count": 2,
   "metadata": {
    "collapsed": false
   },
   "outputs": [],
   "source": [
    "currencies_filtered_array = ['Other', 'AUD', 'BGN', 'CAD', 'EUR', 'GBP', 'NZD', 'USD', 'ZAR']\n",
    "suppliers_filtered_array = ['Other', '155 Bar and Kitchen', '51st State Tavern', '7-Eleven', 'AMT Coffee', 'ASDA', 'ATM', 'AVIS', 'Abode Machester', 'Accor Hotels', 'Adam Zweig', 'Addison Lee', 'Adelaide Metro', 'Adina Apartment Hotel', 'Admiral Codrington', 'Aidan Wright', 'Air Canada', 'Air New Zealand', 'Airbrake', 'AirportLink', 'Albert STR Gelato', 'Albion Computers', 'Alex Canfor-Dumas', 'Alexis Prenn - Salary only since May 13', 'Alto Cafe SARL', 'Amazon', 'Ambassador Transit Lounge', 'Amelia Whitehouse', 'Andrea Sciutto', 'Angela Mortimer', 'Animoto', 'Ann Savino', 'Anz', 'Apego', 'Apex Hotels', 'Apex Temple', 'Apple Store', 'Apptentive', 'Argos', 'Argyle Bar', 'Aroma Cafe', 'Asana', 'Association Coffee', 'Atlassian', 'Atos Worldline', 'Au Bon Pain', 'Auberge Etchegorry', 'Auckland Transport', 'Australia Online Printing', 'Australia Post', 'Australian Catering', 'Autogrill', 'Avenue Suites', 'B2B Marketing Laboratory', 'BT', 'BWA Merchant Services', 'Baccomatto Osteria', 'Bagel Factory', 'Balsamiq', 'Balthazar Restaurant', 'Bar pilar', 'Barsy', 'Basement Browns', 'Basilico', 'Basilico Fulham Road', 'Bayard Packaging', 'Bayou', 'Bbar', 'Beeline Sameday', 'Beer Deluxe', 'Belgo', 'Bella Italia', 'Benugo', 'Besser', 'Best Ugly Bagels', 'Best Western', 'Biaggio', 'Big Five Duty Free', \"Bill's Restaurants\", 'Bills Restaurant', 'Birmingham', 'Bistro Boudin', 'Bistrot du Coin', 'Blacksmith Surry Hills', 'BoCo', 'Booking.com', 'Bookkeeping and Beyond', 'Boom Burgers & Steaks', 'Boost Juice', 'Boots', 'Boparan Ventures', 'Borderline', 'Brasserie Blanc', 'Bread & Brew Cafe', 'Bread and Chocolate', 'Breadwinner', 'British Airways', 'Brothers Brewery', 'Browns Birmingham', 'Brunetti City Square', 'Buffet Bar', 'Bugsnag', 'Builders Arms', 'Bulgaria Air', 'Bulgarian Restaurant', 'Bulgarian Shop', 'Bumpkin', 'Burger & Lobster', 'Burger King', 'Burger Tap & Shake', 'Burgerfuel', 'Busboys & Poets', 'Butchershop & Grill', 'Buzly Labs', 'Byron', 'CAP Group', 'CMETKA', 'CMT UK', 'CVS Pharmacy', 'Cabrito Coffee', 'Caesars Las Vegas', 'Caesars Palace', 'Cafe', 'Cafe Brunelli', 'Cafe Dalayrac', 'Cafe De La Presse', 'Cafe Deluxe', 'Cafe Destijl', 'Cafe Espresso', 'Cafe Gusto', 'Cafe La Taza', 'Cafe Piatto', 'Cafe Vue', 'Cafe de la Paix', 'Caffe Nero', 'Camden', 'Camden Food', 'Candle', 'Capital SCF', 'Capsule (Zestia Ltd)', 'Car Park', 'Cards Galore', 'Careys Manor Hotel', 'Carlton Hotel', 'Carluccio', 'Carluccios', 'Caviar House & Prunier', 'Celtic Manor Resort', 'Central Park Hotel', 'Chartwell Grill', 'Cheeky Chicos Mexican Bar & Restaurant', 'Chef Geoff', 'China Grand Sydney Airport', 'Chipotle', 'Chris Villasenor', 'Circa At Dupont', 'Cirrus Insight', 'CitrixOnline', 'City of London', 'Close Brothers Premium Finance', 'Coast Cafe', 'Code Climate', 'Coffee Republic', 'Colbert', 'Coles Supermarkets', 'Companies House', 'Company Of Cooks', 'Comptoir Libanais', 'Comptoir Moderne', 'Continental Bar', 'Contrado Imaging', 'Cook & Archies', 'Cook and Archies', 'Cooley (UK)', 'Copita', 'Copyhouse', 'Corney & Barrow', 'Costa', 'Costa Coffee', 'Cote', 'Cote Bistro', 'Cote Restaurant', 'Countdown', 'Courtyard By Marriott', 'Cowley-Lambetsos', \"Criniti's\", 'Crosby Associates', 'Crown Street Grocer', 'Crowne Plaza', 'Crunch', 'Culinart', 'Currys', 'DP', 'DPro', 'Datachoice Solutions', 'Datadog', 'David Burke', 'Delaware North Retail Services', 'Den Anker', 'Department of Coffee and Social Affairs', 'Devere Hotel', 'Devon & Blakely', 'Dilieto Sandwich Bar', 'Displayways', 'District Commons', 'Dixons Travel', \"Domino's Pizza\", 'Donburi', 'Double Tree', 'Doubletree', 'Down the Alley', 'Doyles', 'Dozo', 'Draft House', 'Dri Dri', 'Dublin Bus', 'Duty Free', 'E M G Partners', 'E-Sense Cafe', 'EDM Solutions', 'EE', 'East Coast', 'East Sussex National', 'Easy Jet', 'Eat', \"Ede's (UK)\", 'Eden', 'Edoya Sushi Bar', 'Elior Concessions Gares Sas', 'Ella McCann-Tomlin', 'Eltrade', 'EmbroidMe', 'Engine Room CA', 'Esso', 'Eurostar', 'Eventbrite', 'ExCel', 'Expedia', 'FD Recruit', 'FIVE GUYS', 'Facebook Ads', 'Facebook Ireland', 'Fairmont Pacific Rim', 'Fancy Burgers', 'FedEx', \"Fideli's Bar & Restaurant\", 'Filter Coffeehouse', 'Finatal', 'Fine Burger Co.', 'Firezza Chelsea', 'First Great Western', 'Floor Mats UK', 'Flour Pot Bakery', 'Fluid Recruitment', 'Food', 'Food Supplier', 'Food Truck Garage', 'Formaggi Ocello', 'Fosaux', 'Founding Farmers', 'Fox @Excel', 'Fox Excel', \"Frankie & Benny's\", 'Fratelli', 'Frazer Lloyd-Davies', 'Fresh Food Direct', 'Fuse Design', 'Galeries Gourmandes', 'Gastro - House d.o.o.', 'Gate Retail Onboard GmbH', 'Gate Total Solutions', 'Geckoboard', 'Gelatissimo', 'General Assembly', 'Geogetown Valet', 'Geronimo Inns', 'Get Satisfaction', 'Giraffe', 'Give A Grad A Go', \"Glen's Garden Market\", 'Glens', 'Gloria Jeans Sydney', 'Go Daddy.com', 'Goodman Derrick', 'Google AdWords', 'Google Ireland Ltd - GBP', 'Gordon Ramsay', 'Goutu', 'Grand Central', 'Grand Royale London Hydr Park', 'Great Northern Bar', 'Greater Anglia', 'Greggs', \"Grill'd Healthy Burgers\", 'HEX Heathrow Express', 'HGC Accountancy Services', 'HM Revenue & Customs', 'HMS Host', 'Habitat', 'Hailo Cab', 'Happycoco', 'Harbour House', 'Hard Rock Cafe', 'Harvard Business Review', 'Haven Tailoring Coffee', 'Hawksmoor', 'Heathrow', 'Hectopob', 'Helena Wood', 'High Timber', 'Hilton', 'Hilton London Gatwick Airport', 'HipChat', 'Hippopotamus', 'Hix', 'Holiday Inn Express', 'Home Rule', 'Hood Burger', 'Hotel Ascot Opera', 'Hotel Chocolat', 'Hotel Du Vin', 'Hotel George Williams', 'Hotel Grand Chancellor Adelaide on Hindley', 'Hotel Ljubljana', 'Hotel Niky', 'Hotel President Park Brussels', 'Hotels.com', 'House of Kaizen', 'Hoxton Grill', 'Hudsons Coffee', 'Hyatt Regency', 'I Square', 'IBIS Bristol Center', 'IKEA', 'INTERCOM.IO', 'Ibis Hotel', 'Ihop', 'Immigration New Zealand', 'Indian City', 'Indigo', 'Institute of Certified Bookkeepers', 'InterContinental', 'Intercom', 'Interflora', 'Interim Business Solutions', 'Interparcel', 'Intuit', 'Italiano Ice Cream', 'Itsu', 'JAG Shaw Baker', 'JAGShaw Baker', 'Jamies', 'Jamies Italian', 'Java Java', 'Jetstar', 'Joes Kitchen', 'Johnnie de La Moriniere', 'Julie Anderson', 'Jurys Inn', 'KFC Myatt Airport', 'Kaiser Permanente', 'Kall Kwik', 'Kettners', \"Kim's  Vietnamese\", 'Kinney Green', \"Klein's Deli\", 'Komachi Japanese Restaurant', 'Konditor & Cook', 'Kramerbooks & Afterwords Cafe', 'L A & A Mrncci Inv', \"L'eto Caffe\", 'LHR Airports', 'La Cigale Parnell', 'La Colombe-Manhattan', 'La Delizia', 'La Parada', 'La Terrasse', 'Lady J', 'Lan Tana', 'Landmark', 'Lantana Cafe', 'Le Croissant', 'Le Gagnage', 'Le Lyautey', 'Le Pain Quotidien', 'Le Relais Madeleine', 'Leader Sushi', \"Leith's At Excel\", 'Lemon Cafe', 'Leon', \"Li'l Darlin\", 'Lime Fresh Mexican Grill', \"Lina's\", 'Linkedin', 'Logan Hardware', 'Loggly', 'London Blackfriars', 'London Coffee Project', 'London Legalisation Services', 'London Underground', 'Longrain', 'Love Letters', 'Lutyens', 'MBTA', 'MTA NYC Transit', 'MaSo', 'Macellaio Roberto Costa', 'Mad Mex', 'Mail Boxes Etc', 'Mail and Print', 'MailChimp', 'Manly Wharf Hotel', 'Mantra', 'Marco Polo', 'Marina Del Rey Hotel', 'Marks & Spencer', 'Marthas', 'Maxama', 'Maxela', \"McCormick & Schmick's\", \"McDonald's\", 'McQueens', 'Medics Usa', \"Megan's\", 'Megans Wine Cellar', 'Mellow Mushroom', 'Mercure', 'Meriton Campbell Street', 'Meta Ideas', 'Metric Office Furniture', 'Metro', 'Metro K Super Market', 'Metro K Supermarket', 'Metrolink', 'Mileage', 'Milestones', 'Millevini', 'Mink Cafe', 'Miss K Brindley', 'Mitchells & Butlers Retail', 'Mixpanel', 'Momentum Services', 'Monop', 'Mosaic Bar & Grill', 'Moto', 'Mount Charles Group', 'Movida', 'Multiple Suppliers', 'My Train Zone', 'MyFerry', 'Mybuffalo', 'Myki', \"Nando's\", 'Nandos', 'NatWest', 'Natural Kitchen', \"Nell's - Kings Road\", 'Nelson Da Silva', 'Nespresso', 'Neuilly Park Hotel', 'New Relic', 'New World', 'New Zealand Post', 'Newrest Wagonslits', 'Newslink', 'Nicolas', 'Noel Leeming Group', 'Nolita Pizza', 'Non Solo Pizza', 'Nottingham Belfry', 'Novotel', 'Nubera eBusiness', 'Nuffield St Cafe', 'O2', 'Office Depot', 'Officefront', 'Okinawa', 'Oliver Brown', 'One&Only Cape Town', 'Onedirect', 'Opera Bar', 'Opodo', 'Oporto', 'Optimizely', 'Orange', 'Orly Sud Sd', 'Outtakes Boston Convention & Exhiition Center', 'PDF2Print', \"PJ's Bar & Grill\", 'PP Noodle Bar', 'PR Web', 'Pain A La Ligne', 'PaperPlus', 'Paperchase', 'Paperless Post', 'Paradies Shops', 'Paris Baguette', 'Parkview Consultants', 'Pascade', 'Pasta Bros', 'Patisserie Valerie', 'Patricks', 'Paul', 'Payard Bistro-Caesar', 'Pectopaht', 'People Per Hour', 'Peter Jones', 'Pharm Boubert', 'Phoenix', 'Pilpel for The People', 'Pingdom', 'Pink Food', 'Pinocchio', 'Pipedrive OU', 'Pizza Express', 'Pizza Hut', 'Plato NZ', 'Plum and Spilt Milk', 'Pod', 'Positionly', 'Post Office', 'Premier Inn', 'Press Coffee & Co', 'Pret A Manger', 'Prevozi Uros Pokec S.P.', 'Prezzo', 'Prince Arthur', 'Prontaprint', 'Proxy', \"Puccino's\", 'Pullman Hotels', 'Pumpkin', 'Punta Ala Caffe', 'Q Hotels', 'Qantas', 'Quality Catering', 'QualitySolicitors Clarke & Son', 'Quay Four', 'Quest Bondi Junction', 'Quickbooks Connect', 'RATP', 'RIS', 'Radford News & Wine', 'Radisson Blu', 'Ralph Charlton', 'Ramada Encore', 'Rapid Growth Group', 'Rebtel', 'Receipt Bank Ltd', 'Redstation', 'Refuel', 'Relay', 'Restaurant', 'Restaurant Coreen Ari Ari Sarl', 'Restaurant Rock and Roll', 'Restaurant Story', 'Rhumbas', 'Ribs & Burgers', 'Richoux', 'Risikat Bello', 'Rite Aid', 'Ritz Carlton', 'River Hill', 'Road Chef', 'Roadchef', 'Robert Dyas', 'Rocca', 'Rocroy', 'Rose Lubbock', 'Rossett Hall', 'Rotisserie Chicken', 'Royal Mail', 'Royal Vendome', 'Rudding Park', \"Ruth's Chris Steak House\", 'Rutherford Hotel', 'Ryanair', 'Rydges', 'Ryman', 'Ryman Stationery', 'SNCF', 'SagePay', \"Sainsbury's\", 'Sake Restaurant', 'Sale St', 'SalesForce.com', 'San Francisco International Airport', 'Sandton Sun', 'Santa Ana', 'Scandinavian Kitchen', 'Schedule Once', 'Scott Prenn', 'Scratch Bakery', 'Select Service Partner (SSP)', 'Send a Chocolate', 'Sette Osteria', 'Sevenhill Consulting', 'Sevenhill Group', 'Shake Shack', 'Shell', 'ShopHouse', 'Shoreditch Grind', 'Shot', 'Sierra Cafe', 'Simply Thai', 'Skype', 'Skyway Cafe', 'Slug And Lettuce', 'Small Batch Coffee', 'Smart Debit', 'Snap', 'Snappy Snaps', 'Sofia Airport Ead', 'Sofitel', 'Soho Cafe', \"Sophie's Credit Card\", 'Soul Bar and Bistro', 'South African Airways', 'South West Trains', 'Southern', 'Southwest Airlines', \"Specialty's\", 'Spotless Facility Services', 'Spreedly', 'Springlaw', 'Squirrels', 'St Johns Hotel', 'Stansoft', 'Starbucks', 'Stellar International Register Services', 'Stif', 'Strada', 'Streamline', 'Subway', 'Sunnyside Park Hotel', 'SurveyMonkey', 'Sweetgreen', 'Sydney Trains', 'T-Mobile', 'TESCO', 'TFL', 'TGIF Fridays', 'Tamesis Dock', 'Tatte Bakery', 'TaxAssist Accountants', 'Taxi Receipt', 'TechSmith', \"Ted's Bulletin\", 'Telstra', 'Terroni', 'Testology', 'Thameslink', 'The Albany', 'The Ampersand Hotel', 'The B2B Marketing Laboratory', 'The Boatbuilders Yard', 'The Builders Arms', 'The Camdenassembly', 'The Carphone Warehouse', 'The Cheshire Cheese', 'The Chimes', 'The Churchill Hotel', 'The Co-Operative', 'The Dakhin', 'The Delaunay', 'The Drunken Monkey', 'The Duke of Edinburgh', 'The EE Store', 'The Fleet St Press', 'The Grill on the Alley', 'The Grillhouse Sandton', 'The Grocer On Kings', 'The Grove Yerba Buena', 'The Hack and Hop', 'The Happenstance', 'The Institute of Chartered Accountants in England & Wales', 'The Ivy', 'The Market Place Restaurant', 'The Meat & Wine Co', 'The Normandy Hotel', 'The Office Group', 'The Paddington', 'The Parcel Yard', 'The Pelham Hotel', 'The Phoenix Chelsea', 'The Sleeter Group', 'The Sydney Arms', 'The Temple Brew House', 'The Thomas Cubitt', 'The Trafalgar', 'The Trainline', 'The UPS Store', 'The Vic Brewery Bar', 'The Wanderer', 'The Warehouse', 'The Westin Cape Town', 'The White Swan', 'The Wow Company', 'Thistle Exeter City Centre', 'Times Travel', 'Tom-Tom Bar & Eatery', 'Tomizone', 'Tomokazu', 'Toms Kitchen', 'Tops Ktchen', 'Torch Cafe', 'Total SECURE SCAN', 'Trade Me', 'Trader Joes', 'Trailfinders', 'Training and Beyond', 'Trans Media Technology', 'Transport for London (TfL)', 'Transport for NSW', 'Travel', 'Travelodge', 'Trello', 'Trumps Grillhouse', 'Truphone', 'Typeform', 'UK Railways', 'Uber', 'Unbounce', 'United', 'United Airlines', 'Unknown Supplier', 'Unknown supplier', 'Unleashed Softwre Ltd', 'Upper Crust', 'Uptowner Cafe', 'VRM 2009', 'Vault Press', 'VaultPress', 'Velocity', 'Vibe Hotel Sydney', 'Vida E Caffe', 'Vieteat', 'Vigour Cafe', 'Viking', 'Villa Dondelli', 'Vinyl Impression', 'Virgin Australia', 'Virgin Trains', 'Virtual Office Solutions', 'Vistaprint', 'Viva Mexico', \"Vodafone - Sophie's Mobile\", 'Voipfone', 'Vovo Telo V & A waterfront', 'W17 Cafe', 'WH Smith', 'WHSmith', 'WP Engine', 'Wagamama UK', 'Waitrose', 'Wallace Property Company', 'Wasabi', 'Waterfront', \"Waterstone's\", 'Welcome Break', 'West Coast Trains', 'Westbourne Studios', 'Westin', 'Westpac', 'Whisky Galore', 'Whoopie', 'Windsor Castle', 'Wise Advice', 'Woolworths', 'Workspace Management', 'World Restaurant and Bar', 'Wufoo', 'Xero', 'Xero New Zealand', 'Xero Pty Ltd (Australia)', 'Xero UK', 'Yankee Pier', 'Ye Old Cheshire Cheese', 'Yo Sushi!', 'Youngs', \"Zaro's Bakery\", 'Zazzle', 'Zendesk', 'Zest', 'Zizzi', 'Zucla', 'Zup Prevozi', 'dick smith', 'iStockphoto', 'iTunes', 'laissez-faire', 'maplin', 'sainsburys', 'tabard inn', 'west elm']\n",
    "\n",
    "def get_filtered_currency(currency_code):\n",
    "    if currency_code in currencies_filtered_array:\n",
    "        return currency_code\n",
    "    else:\n",
    "        return currencies_filtered_array[0]\n",
    "    \n",
    "def get_filtered_supplier(supplier_name):\n",
    "    if supplier_name in suppliers_filtered_array:\n",
    "        return supplier_name\n",
    "    else:\n",
    "        return suppliers_filtered_array[0]"
   ]
  },
  {
   "cell_type": "code",
   "execution_count": 3,
   "metadata": {
    "collapsed": true
   },
   "outputs": [],
   "source": [
    "import pandas as pd\n",
    "import numpy as np\n",
    "import matplotlib.pyplot as plt\n",
    "%matplotlib inline"
   ]
  },
  {
   "cell_type": "code",
   "execution_count": 4,
   "metadata": {
    "collapsed": false
   },
   "outputs": [],
   "source": [
    "dataset_path = '../../big_data/rb-suppliers-challange/receipts.csv'\n",
    "texts_path = '../../big_data/rb-suppliers-challange/texts/'"
   ]
  },
  {
   "cell_type": "code",
   "execution_count": 5,
   "metadata": {
    "collapsed": false
   },
   "outputs": [],
   "source": [
    "dataset = pd.read_csv(dataset_path, index_col=['id'])\n",
    "# print(\"Initial shape:\", dataset.shape)\n",
    "\n",
    "dataset = dataset[~dataset.supplier_name.isnull()]\n",
    "dataset = dataset[~dataset.currency_code.isnull()]\n",
    "np.random.seed(1)\n",
    "shuffled = dataset.reindex(np.random.permutation(dataset.index))\n",
    "# print(\"Shape after filter:\", dataset.shape)\n",
    "# print(\"Columns names:\")\n",
    "# print(dataset.columns.values)\n",
    "\n",
    "unique_supplier_names = shuffled.supplier_name.unique()\n",
    "unique_currency_codes = shuffled.currency_code.unique()\n",
    "\n",
    "# print(\"Dataset size {0}\".format(len(shuffled)))\n",
    "# print(\"Unique supplier names {0}\".format(len(unique_supplier_names)))\n",
    "# print(\"Unique currency names {0}\".format(len(unique_currency_codes)))\n",
    "\n",
    "# print(\"Currency codes:\")\n",
    "# print(unique_currency_codes)"
   ]
  },
  {
   "cell_type": "code",
   "execution_count": 6,
   "metadata": {
    "collapsed": false
   },
   "outputs": [],
   "source": [
    "def find_class_frequencies(dataset, group_col='currency_code'):\n",
    "    codes = dataset.groupby(group_col).size()\n",
    "    return codes\n",
    "\n",
    "currency_codes = find_class_frequencies(dataset)\n",
    "# print('Unique currencies:', len(currency_codes))\n",
    "# print(currency_codes)\n",
    "\n",
    "currency_names = currency_codes.index.values\n",
    "currency_counts = currency_codes.values\n",
    "# plt.bar(range(len(currency_names.tolist())), currency_counts.tolist(), align='edge', alpha=0.5, tick_label=currency_names.tolist())\n",
    "# plt.xticks(rotation=70);"
   ]
  },
  {
   "cell_type": "code",
   "execution_count": 7,
   "metadata": {
    "collapsed": false
   },
   "outputs": [],
   "source": [
    "suppliers = find_class_frequencies(dataset, 'supplier_name')\n",
    "# print('Unique suppliers:', len(currency_codes))\n",
    "# print(suppliers)\n",
    "\n",
    "suppliers_names = suppliers.index.values\n",
    "suppliers_counts = suppliers.values\n",
    "# plt.bar(range(len(suppliers_names)), suppliers_counts, align='edge', alpha=0.5);"
   ]
  },
  {
   "cell_type": "code",
   "execution_count": 8,
   "metadata": {
    "collapsed": true
   },
   "outputs": [],
   "source": [
    "from os import listdir\n",
    "from os.path import isfile, join\n",
    "import json"
   ]
  },
  {
   "cell_type": "code",
   "execution_count": 9,
   "metadata": {
    "collapsed": true
   },
   "outputs": [],
   "source": [
    "file_names = [f.split(\".\")[0] for f in listdir(texts_path) if isfile(join(texts_path, f)) and f.endswith('.json')]\n",
    "ids = np.array(list(set([int(f) for f in file_names]).intersection(set(dataset.index.values))))\n",
    "texts = pd.Series(['' for i in ids], index=ids)\n",
    "for index in ids:\n",
    "    json_data = open(texts_path + str(index) + '.json', encoding=\"utf8\")\n",
    "    data = json.load(json_data)\n",
    "    try:\n",
    "        texts[index] = data[0]['textAnnotations'][0]['description']\n",
    "    except:\n",
    "        texts[index] = ''\n",
    "dataset['texts'] = texts"
   ]
  },
  {
   "cell_type": "code",
   "execution_count": 10,
   "metadata": {
    "collapsed": false
   },
   "outputs": [],
   "source": [
    "filtered_currencies = pd.Series(['' for i in ids], index=ids)\n",
    "for index in ids:\n",
    "    filtered_currencies[index] = get_filtered_currency(dataset['currency_code'][index])\n",
    "dataset['filtered_currency'] = filtered_currencies"
   ]
  },
  {
   "cell_type": "code",
   "execution_count": 11,
   "metadata": {
    "collapsed": false
   },
   "outputs": [],
   "source": [
    "filtered_suppliers = pd.Series(['' for i in ids], index=ids)\n",
    "for index in ids:\n",
    "    filtered_suppliers[index] = get_filtered_supplier(dataset['supplier_name'][index])\n",
    "dataset['filtered_supplier'] = filtered_suppliers"
   ]
  },
  {
   "cell_type": "code",
   "execution_count": 12,
   "metadata": {
    "collapsed": true
   },
   "outputs": [],
   "source": [
    "from sklearn.svm import LinearSVC\n",
    "from sklearn.feature_extraction.text import TfidfTransformer, CountVectorizer\n",
    "from sklearn.pipeline import Pipeline\n",
    "from sklearn.model_selection import train_test_split"
   ]
  },
  {
   "cell_type": "code",
   "execution_count": 13,
   "metadata": {
    "collapsed": false
   },
   "outputs": [],
   "source": [
    "np.random.seed(1)\n",
    "shuffled = dataset.reindex(np.random.permutation(dataset.index))\n",
    "\n",
    "test_slice = int(len(shuffled) * (10 / 100))\n",
    "training_set = shuffled[test_slice:]\n",
    "test_set = shuffled[:test_slice]\n",
    "\n",
    "# print(\"Training set size {0}\".format(len(training_set)))\n",
    "# freq = find_class_frequencies(training_set, 'filtered_currency')\n",
    "# print(freq)\n",
    "# print(\"Trest set size {0}\".format(len(test_set)))\n",
    "# freq = find_class_frequencies(test_set, 'filtered_supplier')\n",
    "# print(freq)"
   ]
  },
  {
   "cell_type": "code",
   "execution_count": 14,
   "metadata": {
    "collapsed": false
   },
   "outputs": [
    {
     "name": "stdout",
     "output_type": "stream",
     "text": [
      "Test set score 0.9344444444444444\n"
     ]
    }
   ],
   "source": [
    "classifier = Pipeline([\n",
    "    ('counts', CountVectorizer(max_features=2000000, min_df=2, ngram_range=(1, 2))),\n",
    "    ('tfidf', TfidfTransformer()),\n",
    "    ('clf', LinearSVC(class_weight='balanced', random_state=1))])\n",
    "\n",
    "classifier.fit(training_set['texts'], training_set['filtered_currency'])\n",
    "print(\"Test set score {0}\".format(classifier.score(test_set['texts'],  test_set['filtered_currency'])))"
   ]
  },
  {
   "cell_type": "code",
   "execution_count": 15,
   "metadata": {
    "collapsed": true
   },
   "outputs": [],
   "source": [
    "from sklearn.ensemble import RandomForestClassifier"
   ]
  },
  {
   "cell_type": "code",
   "execution_count": 16,
   "metadata": {
    "collapsed": false
   },
   "outputs": [
    {
     "name": "stdout",
     "output_type": "stream",
     "text": [
      "Test set score 0.63\n"
     ]
    }
   ],
   "source": [
    "classifier = Pipeline([\n",
    "    ('counts', CountVectorizer(max_features=2000000, min_df=2, ngram_range=(1, 3))),\n",
    "    ('tfidf', TfidfTransformer()),\n",
    "    ('clf', RandomForestClassifier(n_estimators=100, criterion='gini', max_depth=64, n_jobs=4, random_state=1))])\n",
    "\n",
    "classifier.fit(training_set['texts'], training_set['filtered_supplier'])\n",
    "print(\"Test set score {0}\".format(classifier.score(test_set['texts'],  test_set['filtered_supplier'])))"
   ]
  },
  {
   "cell_type": "code",
   "execution_count": 17,
   "metadata": {
    "collapsed": true
   },
   "outputs": [],
   "source": [
    "result_set = test_set.copy()\n",
    "result_set['prediction'] = classifier.predict(result_set['texts'])"
   ]
  },
  {
   "cell_type": "code",
   "execution_count": 18,
   "metadata": {
    "collapsed": false
   },
   "outputs": [],
   "source": [
    "# result_set[['supplier_name', 'prediction']]"
   ]
  },
  {
   "cell_type": "code",
   "execution_count": 19,
   "metadata": {
    "collapsed": false
   },
   "outputs": [],
   "source": [
    "import re"
   ]
  },
  {
   "cell_type": "code",
   "execution_count": 20,
   "metadata": {
    "collapsed": false
   },
   "outputs": [],
   "source": [
    "prices = pd.Series([[] for i in ids], index=ids)\n",
    "for index in ids:\n",
    "    text = dataset['texts'][index]\n",
    "    total_amount = dataset['total_amount'][index]\n",
    "    lines = text.split('\\n')\n",
    "    current_prices = []\n",
    "    for line in lines:\n",
    "        found_prices = re.findall('\\d[\\d\\.,]+', line)\n",
    "        found_digits = re.findall('\\d', line)\n",
    "        if len(found_prices) >= 1:\n",
    "            for item in found_prices:\n",
    "                try:\n",
    "                    current_price = float(item)\n",
    "                except:\n",
    "                    break\n",
    "                \n",
    "                new_price = dict()\n",
    "                new_price['value'] = current_price\n",
    "                new_price['line'] = line\n",
    "                new_price['is_total'] = 1 if current_price == total_amount else 0\n",
    "                new_price['has_dot'] = '.' in line\n",
    "                new_price['has_comma'] = ',' in line\n",
    "                new_price['has_total_word'] = 'total' in line.lower()\n",
    "                new_price['digits_count'] = len(found_digits)\n",
    "                \n",
    "                current_prices.append(new_price)\n",
    "    \n",
    "    for i, price in enumerate(current_prices):\n",
    "        if len(current_prices) == 1:\n",
    "            price['order'] = 1.00\n",
    "        else:\n",
    "            price['order'] = round(i / (len(current_prices) - 1), 2)\n",
    "        \n",
    "    prices[index] = current_prices\n",
    "    \n",
    "dataset['prices'] = prices"
   ]
  },
  {
   "cell_type": "code",
   "execution_count": 51,
   "metadata": {
    "collapsed": false
   },
   "outputs": [],
   "source": [
    "X_data = []\n",
    "Y_data = []\n",
    "\n",
    "for id_index in ids:\n",
    "    for price_index, price in enumerate(dataset['prices'][id_index]):\n",
    "        # new_index = str(id_index) + '_' + str(price_index)\n",
    "        \n",
    "        features = []\n",
    "        features.append(price['has_dot'])\n",
    "        features.append(price['has_comma'])\n",
    "        features.append(price['has_total_word'])\n",
    "        features.append(price['digits_count'])\n",
    "        features.append(price['order'])\n",
    "        X_data.append(features)\n",
    "        \n",
    "        Y_data.append(1 if price['is_total'] else 0)"
   ]
  },
  {
   "cell_type": "code",
   "execution_count": 65,
   "metadata": {
    "collapsed": false
   },
   "outputs": [],
   "source": [
    "test_items_count = int(len(X_data) * (10 / 100))\n",
    "X_train =  np.array(X_data[test_slice:])\n",
    "X_test = np.array(X_data[:test_slice])\n",
    "Y_train = np.array(Y_data[test_slice:])\n",
    "Y_test = np.array(Y_data[:test_slice])\n"
   ]
  },
  {
   "cell_type": "code",
   "execution_count": 74,
   "metadata": {
    "collapsed": true
   },
   "outputs": [],
   "source": [
    "from sklearn.svm import SVC"
   ]
  },
  {
   "cell_type": "code",
   "execution_count": null,
   "metadata": {
    "collapsed": false
   },
   "outputs": [],
   "source": [
    "total_amount_classifier = SVC(kernel='linear',probability=True)\n",
    "total_amount_classifier.fit(X_train, Y_train)"
   ]
  },
  {
   "cell_type": "code",
   "execution_count": 71,
   "metadata": {
    "collapsed": false
   },
   "outputs": [
    {
     "ename": "AttributeError",
     "evalue": "'LinearSVC' object has no attribute 'predict_proba'",
     "output_type": "error",
     "traceback": [
      "\u001b[0;31m---------------------------------------------------------------------------\u001b[0m",
      "\u001b[0;31mAttributeError\u001b[0m                            Traceback (most recent call last)",
      "\u001b[0;32m<ipython-input-71-d893745f4738>\u001b[0m in \u001b[0;36m<module>\u001b[0;34m()\u001b[0m\n\u001b[1;32m      2\u001b[0m \u001b[0mtotal\u001b[0m \u001b[1;33m=\u001b[0m \u001b[1;36m0\u001b[0m\u001b[1;33m\u001b[0m\u001b[0m\n\u001b[1;32m      3\u001b[0m \u001b[1;32mfor\u001b[0m \u001b[0mx_t\u001b[0m\u001b[1;33m,\u001b[0m \u001b[0my_t\u001b[0m \u001b[1;32min\u001b[0m \u001b[0mzip\u001b[0m\u001b[1;33m(\u001b[0m\u001b[0mX_test\u001b[0m\u001b[1;33m,\u001b[0m \u001b[0mY_test\u001b[0m\u001b[1;33m)\u001b[0m\u001b[1;33m:\u001b[0m\u001b[1;33m\u001b[0m\u001b[0m\n\u001b[0;32m----> 4\u001b[0;31m     \u001b[0mpredicted\u001b[0m \u001b[1;33m=\u001b[0m \u001b[0mtotal_amount_classifier\u001b[0m\u001b[1;33m.\u001b[0m\u001b[0mpredict_proba\u001b[0m\u001b[1;33m(\u001b[0m\u001b[0mx_t\u001b[0m\u001b[1;33m.\u001b[0m\u001b[0mreshape\u001b[0m\u001b[1;33m(\u001b[0m\u001b[1;36m1\u001b[0m\u001b[1;33m,\u001b[0m \u001b[1;33m-\u001b[0m\u001b[1;36m1\u001b[0m\u001b[1;33m)\u001b[0m\u001b[1;33m)\u001b[0m\u001b[1;33m\u001b[0m\u001b[0m\n\u001b[0m\u001b[1;32m      5\u001b[0m     \u001b[1;32mif\u001b[0m \u001b[0my_t\u001b[0m \u001b[1;33m==\u001b[0m \u001b[1;36m1\u001b[0m\u001b[1;33m:\u001b[0m\u001b[1;33m\u001b[0m\u001b[0m\n\u001b[1;32m      6\u001b[0m         \u001b[0mtotal\u001b[0m \u001b[1;33m+=\u001b[0m \u001b[1;36m1\u001b[0m\u001b[1;33m\u001b[0m\u001b[0m\n",
      "\u001b[0;31mAttributeError\u001b[0m: 'LinearSVC' object has no attribute 'predict_proba'"
     ]
    }
   ],
   "source": [
    "correct = 0\n",
    "total = 0\n",
    "for x_t, y_t in zip(X_test, Y_test):\n",
    "    predicted = total_amount_classifier.predict_proba(x_t.reshape(1, -1))\n",
    "    if y_t == 1:\n",
    "        total += 1\n",
    "        print(predicted)\n",
    "            \n",
    "print('Total score: ', str(correct / total))"
   ]
  },
  {
   "cell_type": "code",
   "execution_count": null,
   "metadata": {
    "collapsed": true
   },
   "outputs": [],
   "source": []
  }
 ],
 "metadata": {
  "kernelspec": {
   "display_name": "Python 3",
   "language": "python",
   "name": "python3"
  },
  "language_info": {
   "codemirror_mode": {
    "name": "ipython",
    "version": 3
   },
   "file_extension": ".py",
   "mimetype": "text/x-python",
   "name": "python",
   "nbconvert_exporter": "python",
   "pygments_lexer": "ipython3",
   "version": "3.6.0"
  }
 },
 "nbformat": 4,
 "nbformat_minor": 0
}
